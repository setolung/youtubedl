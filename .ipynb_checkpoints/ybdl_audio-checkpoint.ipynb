{
 "cells": [
  {
   "cell_type": "code",
   "execution_count": 1,
   "id": "8085629c",
   "metadata": {},
   "outputs": [],
   "source": [
    "import pafy"
   ]
  },
  {
   "cell_type": "code",
   "execution_count": 2,
   "id": "ae8a91f8",
   "metadata": {},
   "outputs": [
    {
     "name": "stdout",
     "output_type": "stream",
     "text": [
      "https://youtu.be/TUVcZfQe-Kw\n"
     ]
    }
   ],
   "source": [
    "# opening the text file which contains all the links\n",
    "file = open('list.txt', 'r')\n",
    "\n",
    "# loop through each link in the file\n",
    "for line in file:\n",
    "\n",
    "    # Assign link to \"url\" variable\n",
    "    url = line\n",
    "    print (url)\n",
    "    try:\n",
    "        # Passing link to pafy\n",
    "        video = pafy.new(url)\n",
    "\n",
    "        # extracting the best available audio\n",
    "        bestaudio = video.getbestaudio()\n",
    "        print(video.title)\n",
    "\n",
    "        # downloading the extracted audio\n",
    "        bestaudio.download()\n",
    "\n",
    "    # move to next link if the video is removed in the youtube platform\n",
    "    except:\n",
    "        pass\n",
    "\n",
    "# close the text file\n",
    "file.close()"
   ]
  }
 ],
 "metadata": {
  "kernelspec": {
   "display_name": "Python 3 (ipykernel)",
   "language": "python",
   "name": "python3"
  },
  "language_info": {
   "codemirror_mode": {
    "name": "ipython",
    "version": 3
   },
   "file_extension": ".py",
   "mimetype": "text/x-python",
   "name": "python",
   "nbconvert_exporter": "python",
   "pygments_lexer": "ipython3",
   "version": "3.9.12"
  }
 },
 "nbformat": 4,
 "nbformat_minor": 5
}
