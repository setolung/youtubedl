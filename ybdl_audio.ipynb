{
 "cells": [
  {
   "cell_type": "code",
   "execution_count": 12,
   "id": "8085629c",
   "metadata": {},
   "outputs": [],
   "source": [
    "import pafy"
   ]
  },
  {
   "cell_type": "code",
   "execution_count": 13,
   "id": "ae8a91f8",
   "metadata": {},
   "outputs": [],
   "source": [
    "url = \"https://youtu.be/H5v3kku4y6Q\"\n",
    "\n",
    "video = pafy.new(url)"
   ]
  },
  {
   "cell_type": "code",
   "execution_count": 14,
   "id": "76b55805",
   "metadata": {},
   "outputs": [
    {
     "data": {
      "text/plain": [
       "'Harry Styles - As It Was (Official Video)'"
      ]
     },
     "execution_count": 14,
     "metadata": {},
     "output_type": "execute_result"
    }
   ],
   "source": [
    "video.title"
   ]
  },
  {
   "cell_type": "code",
   "execution_count": 15,
   "id": "707e5aef",
   "metadata": {},
   "outputs": [],
   "source": [
    "bestaudio = video.getbestaudio()"
   ]
  },
  {
   "cell_type": "code",
   "execution_count": 17,
   "id": "b1da3297",
   "metadata": {},
   "outputs": [
    {
     "name": "stdout",
     "output_type": "stream",
     "text": [
      "  2,748,344.0 Bytes [100.00%] received. Rate: [  47 KB/s].  ETA: [0 secs]    \n"
     ]
    },
    {
     "data": {
      "text/plain": [
       "'Harry Styles - As It Was (Official Video).webm'"
      ]
     },
     "execution_count": 17,
     "metadata": {},
     "output_type": "execute_result"
    }
   ],
   "source": [
    "#download audio\n",
    "bestaudio.download()"
   ]
  },
  {
   "cell_type": "code",
   "execution_count": null,
   "id": "ce72272c",
   "metadata": {},
   "outputs": [],
   "source": []
  }
 ],
 "metadata": {
  "kernelspec": {
   "display_name": "Python 3 (ipykernel)",
   "language": "python",
   "name": "python3"
  },
  "language_info": {
   "codemirror_mode": {
    "name": "ipython",
    "version": 3
   },
   "file_extension": ".py",
   "mimetype": "text/x-python",
   "name": "python",
   "nbconvert_exporter": "python",
   "pygments_lexer": "ipython3",
   "version": "3.9.12"
  }
 },
 "nbformat": 4,
 "nbformat_minor": 5
}
