{
 "cells": [
  {
   "cell_type": "code",
   "execution_count": 1,
   "id": "0ab87415-00b3-483e-91b3-3aabe40d31a9",
   "metadata": {},
   "outputs": [
    {
     "name": "stdout",
     "output_type": "stream",
     "text": [
      "Downloading audio from: https://youtu.be/XhODmWRNU7I?si=uSD6SxPIdLcKnQU1\n",
      "[youtube] Extracting URL: https://youtu.be/XhODmWRNU7I?si=uSD6SxPIdLcKnQU1\n",
      "[youtube] XhODmWRNU7I: Downloading webpage\n",
      "[youtube] XhODmWRNU7I: Downloading tv client config\n",
      "[youtube] XhODmWRNU7I: Downloading player 5ae7d525\n",
      "[youtube] XhODmWRNU7I: Downloading tv player API JSON\n",
      "[youtube] XhODmWRNU7I: Downloading ios player API JSON\n",
      "[youtube] XhODmWRNU7I: Downloading m3u8 information\n",
      "[info] XhODmWRNU7I: Downloading 1 format(s): 251\n",
      "[download] Destination: downloads\\my_audio.webm\n",
      "[download] 100% of   21.28MiB in 00:00:01 at 19.68MiB/s    \n"
     ]
    },
    {
     "name": "stderr",
     "output_type": "stream",
     "text": [
      "ERROR: Postprocessing: ffprobe and ffmpeg not found. Please install or provide the path using --ffmpeg-location\n"
     ]
    },
    {
     "name": "stdout",
     "output_type": "stream",
     "text": [
      "An error occurred: ERROR: Postprocessing: ffprobe and ffmpeg not found. Please install or provide the path using --ffmpeg-location\n"
     ]
    }
   ],
   "source": [
    "# Import necessary libraries\n",
    "#pip install youtube_dl\n",
    "#pip install yt-dlp\n",
    "#conda install ffmpeg -c conda-forge\n",
    "\n",
    "import yt_dlp\n",
    "from IPython.display import Audio, display\n",
    "import os\n",
    "\n",
    "# Function to download YouTube video as audio\n",
    "def youtube_to_audio(url, output_path=\"downloads\", filename=\"audio\"):\n",
    "    try:\n",
    "        # Create output directory if it doesn't exist\n",
    "        if not os.path.exists(output_path):\n",
    "            os.makedirs(output_path)\n",
    "        \n",
    "        # yt-dlp download options\n",
    "        ydl_opts = {\n",
    "            'format': 'bestaudio/best',           # Download best audio quality\n",
    "            'postprocessors': [{                  # Extract audio using ffmpeg\n",
    "                'key': 'FFmpegExtractAudio',\n",
    "                'preferredcodec': 'mp3',          # Convert to mp3\n",
    "                'preferredquality': '192',        # Audio quality (192 kbps)\n",
    "            }],\n",
    "            'outtmpl': f'{output_path}/{filename}.%(ext)s',  # Output file path\n",
    "            'quiet': False,                      # Show download progress\n",
    "        }\n",
    "        \n",
    "        # Download the audio\n",
    "        with yt_dlp.YoutubeDL(ydl_opts) as ydl:\n",
    "            print(f\"Downloading audio from: {url}\")\n",
    "            ydl.download([url])\n",
    "        \n",
    "        # Get the downloaded file path\n",
    "        audio_file = f\"{output_path}/{filename}.mp3\"\n",
    "        print(f\"Audio saved as: {audio_file}\")\n",
    "        \n",
    "        # Play audio in Jupyter Notebook\n",
    "        display(Audio(audio_file))\n",
    "        \n",
    "        return audio_file\n",
    "    \n",
    "    except Exception as e:\n",
    "        print(f\"An error occurred: {str(e)}\")\n",
    "        return None\n",
    "\n",
    "# Example usage\n",
    "youtube_url = \"https://youtu.be/XhODmWRNU7I?si=uSD6SxPIdLcKnQU1\"  # Replace with your YouTube URL\n",
    "output_file = youtube_to_audio(youtube_url, output_path=\"downloads\", filename=\"my_audio\")"
   ]
  },
  {
   "cell_type": "code",
   "execution_count": null,
   "id": "fbfb07d0-500f-4478-bb36-4ea98019c8b4",
   "metadata": {},
   "outputs": [],
   "source": []
  }
 ],
 "metadata": {
  "kernelspec": {
   "display_name": "Python 3 (ipykernel)",
   "language": "python",
   "name": "python3"
  },
  "language_info": {
   "codemirror_mode": {
    "name": "ipython",
    "version": 3
   },
   "file_extension": ".py",
   "mimetype": "text/x-python",
   "name": "python",
   "nbconvert_exporter": "python",
   "pygments_lexer": "ipython3",
   "version": "3.12.9"
  }
 },
 "nbformat": 4,
 "nbformat_minor": 5
}
